{
  "cells": [
    {
      "cell_type": "markdown",
      "metadata": {
        "id": "qxah03ikONCD"
      },
      "source": [
        "# Sobre o notebook\n",
        "\n",
        "Aproveite esse espaço para as atividades do curso de **IA aplicada a Data Science: utilizando IA na construção de visualização de dados** da Alura. Aqui você pode escrever e testar os códigos dos diversos exercícios do **Mão na Massa** envolvendo os aprendizados de cada aula.\n",
        "\n",
        "Este notebook foi construído com espaços para adicionar o prompt que será utilizado para criar o código pelo ChatGPT e as células dos desafios propostos no curso, com eles você tem espaço para construir e executar suas soluções.\n"
      ]
    },
    {
      "cell_type": "markdown",
      "metadata": {},
      "source": [
        "Logo abaixo, temos as url's onde estão localizadas as bases utilizadas no projeto juntamente com a url com dados que utilizaremos também no desafio"
      ]
    },
    {
      "cell_type": "code",
      "execution_count": 22,
      "metadata": {},
      "outputs": [],
      "source": [
        "url_clientes = \"https://raw.githubusercontent.com/alura-cursos/ia-datascience-dataviz/main/dados/zoop_clientes.csv\"\n",
        "url_vendas = \"https://raw.githubusercontent.com/alura-cursos/ia-datascience-dataviz/main/dados/zoop_vendas.csv\"\n",
        "url_zoop_pay = \"https://raw.githubusercontent.com/alura-cursos/ia-datascience-dataviz/main/dados/cadastro_zoop_pay.csv\""
      ]
    },
    {
      "cell_type": "code",
      "execution_count": 23,
      "metadata": {},
      "outputs": [],
      "source": [
        "import pandas as pd"
      ]
    },
    {
      "cell_type": "code",
      "execution_count": 24,
      "metadata": {},
      "outputs": [
        {
          "data": {
            "application/vnd.microsoft.datawrangler.viewer.v0+json": {
              "columns": [
                {
                  "name": "index",
                  "rawType": "int64",
                  "type": "integer"
                },
                {
                  "name": "ID_compra",
                  "rawType": "int64",
                  "type": "integer"
                },
                {
                  "name": "ID_cliente",
                  "rawType": "int64",
                  "type": "integer"
                },
                {
                  "name": "cidade",
                  "rawType": "object",
                  "type": "string"
                },
                {
                  "name": "uf",
                  "rawType": "object",
                  "type": "string"
                },
                {
                  "name": "regiao",
                  "rawType": "object",
                  "type": "string"
                },
                {
                  "name": "idade",
                  "rawType": "int64",
                  "type": "integer"
                },
                {
                  "name": "sexo_biologico",
                  "rawType": "object",
                  "type": "string"
                },
                {
                  "name": "cashback",
                  "rawType": "object",
                  "type": "string"
                },
                {
                  "name": "avaliacao_compra",
                  "rawType": "int64",
                  "type": "integer"
                }
              ],
              "ref": "a783ab85-5205-4b32-a173-2b1d42e05bb5",
              "rows": [
                [
                  "0",
                  "904",
                  "8972",
                  "Natal",
                  "Rio Grande do Norte",
                  "Nordeste",
                  "49",
                  "Masculino",
                  "Não",
                  "9"
                ],
                [
                  "1",
                  "4613",
                  "5120",
                  "São Paulo",
                  "São Paulo",
                  "Sudeste",
                  "49",
                  "Feminino",
                  "Não",
                  "9"
                ],
                [
                  "2",
                  "5579",
                  "1847",
                  "São Paulo",
                  "São Paulo",
                  "Sudeste",
                  "24",
                  "Feminino",
                  "Não",
                  "8"
                ],
                [
                  "3",
                  "2405",
                  "2846",
                  "São Paulo",
                  "São Paulo",
                  "Sudeste",
                  "38",
                  "Feminino",
                  "Sim",
                  "7"
                ],
                [
                  "4",
                  "2485",
                  "2715",
                  "Salvador",
                  "Bahia",
                  "Nordeste",
                  "30",
                  "Feminino",
                  "Não",
                  "10"
                ],
                [
                  "5",
                  "756",
                  "9555",
                  "João Pessoa",
                  "Paraíba",
                  "Nordeste",
                  "46",
                  "Feminino",
                  "Não",
                  "7"
                ],
                [
                  "6",
                  "3020",
                  "3793",
                  "Brasília",
                  "Distrito Federal",
                  "Centro-Oeste",
                  "32",
                  "Masculino",
                  "Sim",
                  "9"
                ],
                [
                  "7",
                  "2390",
                  "4903",
                  "São Paulo",
                  "São Paulo",
                  "Sudeste",
                  "26",
                  "Masculino",
                  "Não",
                  "9"
                ],
                [
                  "8",
                  "3957",
                  "3413",
                  "Salvador",
                  "Bahia",
                  "Nordeste",
                  "30",
                  "Feminino",
                  "Não",
                  "10"
                ],
                [
                  "9",
                  "5142",
                  "3556",
                  "Salvador",
                  "Bahia",
                  "Nordeste",
                  "28",
                  "Feminino",
                  "Não",
                  "8"
                ],
                [
                  "10",
                  "4696",
                  "3927",
                  "Belo Horizonte",
                  "Minas Gerais",
                  "Sudeste",
                  "25",
                  "Feminino",
                  "Não",
                  "7"
                ],
                [
                  "11",
                  "5890",
                  "6238",
                  "São Paulo",
                  "São Paulo",
                  "Sudeste",
                  "31",
                  "Masculino",
                  "Sim",
                  "10"
                ],
                [
                  "12",
                  "1903",
                  "7418",
                  "São Paulo",
                  "São Paulo",
                  "Sudeste",
                  "40",
                  "Feminino",
                  "Não",
                  "9"
                ],
                [
                  "13",
                  "3116",
                  "9946",
                  "São Paulo",
                  "São Paulo",
                  "Sudeste",
                  "40",
                  "Masculino",
                  "Não",
                  "8"
                ],
                [
                  "14",
                  "5",
                  "9491",
                  "São Paulo",
                  "São Paulo",
                  "Sudeste",
                  "36",
                  "Masculino",
                  "Sim",
                  "8"
                ],
                [
                  "15",
                  "3047",
                  "5611",
                  "Porto Alegre",
                  "Rio Grande do Sul",
                  "Sul",
                  "50",
                  "Feminino",
                  "Não",
                  "7"
                ],
                [
                  "16",
                  "1393",
                  "9042",
                  "João Pessoa",
                  "Paraíba",
                  "Nordeste",
                  "25",
                  "Masculino",
                  "Não",
                  "10"
                ],
                [
                  "17",
                  "2602",
                  "3552",
                  "Brasília",
                  "Distrito Federal",
                  "Centro-Oeste",
                  "44",
                  "Masculino",
                  "Não",
                  "10"
                ],
                [
                  "18",
                  "2064",
                  "7165",
                  "Curitiba",
                  "Paraná",
                  "Sul",
                  "50",
                  "Feminino",
                  "Não",
                  "8"
                ],
                [
                  "19",
                  "1462",
                  "9413",
                  "São Paulo",
                  "São Paulo",
                  "Sudeste",
                  "52",
                  "Masculino",
                  "Não",
                  "9"
                ],
                [
                  "20",
                  "2805",
                  "1435",
                  "São Paulo",
                  "São Paulo",
                  "Sudeste",
                  "51",
                  "Feminino",
                  "Não",
                  "9"
                ],
                [
                  "21",
                  "982",
                  "2760",
                  "São Paulo",
                  "São Paulo",
                  "Sudeste",
                  "22",
                  "Feminino",
                  "Sim",
                  "9"
                ],
                [
                  "22",
                  "2198",
                  "4594",
                  "São Paulo",
                  "São Paulo",
                  "Sudeste",
                  "37",
                  "Masculino",
                  "Não",
                  "7"
                ],
                [
                  "23",
                  "4833",
                  "4354",
                  "Belo Horizonte",
                  "Minas Gerais",
                  "Sudeste",
                  "38",
                  "Masculino",
                  "Sim",
                  "9"
                ],
                [
                  "24",
                  "3058",
                  "6519",
                  "São Paulo",
                  "São Paulo",
                  "Sudeste",
                  "33",
                  "Feminino",
                  "Não",
                  "7"
                ],
                [
                  "25",
                  "458",
                  "3325",
                  "Salvador",
                  "Bahia",
                  "Nordeste",
                  "45",
                  "Masculino",
                  "Não",
                  "6"
                ],
                [
                  "26",
                  "1979",
                  "1116",
                  "São Paulo",
                  "São Paulo",
                  "Sudeste",
                  "19",
                  "Masculino",
                  "Não",
                  "9"
                ],
                [
                  "27",
                  "3730",
                  "7929",
                  "Campinas",
                  "São Paulo",
                  "Sudeste",
                  "32",
                  "Feminino",
                  "Sim",
                  "9"
                ],
                [
                  "28",
                  "3553",
                  "7765",
                  "Campinas",
                  "São Paulo",
                  "Sudeste",
                  "25",
                  "Feminino",
                  "Não",
                  "9"
                ],
                [
                  "29",
                  "2063",
                  "6956",
                  "São Paulo",
                  "São Paulo",
                  "Sudeste",
                  "26",
                  "Masculino",
                  "Sim",
                  "9"
                ],
                [
                  "30",
                  "516",
                  "7848",
                  "Campinas",
                  "São Paulo",
                  "Sudeste",
                  "34",
                  "Feminino",
                  "Sim",
                  "4"
                ],
                [
                  "31",
                  "5454",
                  "7048",
                  "São Paulo",
                  "São Paulo",
                  "Sudeste",
                  "48",
                  "Feminino",
                  "Não",
                  "9"
                ],
                [
                  "32",
                  "909",
                  "8880",
                  "Natal",
                  "Rio Grande do Norte",
                  "Nordeste",
                  "18",
                  "Feminino",
                  "Sim",
                  "8"
                ],
                [
                  "33",
                  "1565",
                  "7483",
                  "Campinas",
                  "São Paulo",
                  "Sudeste",
                  "40",
                  "Masculino",
                  "Sim",
                  "9"
                ],
                [
                  "34",
                  "5829",
                  "7968",
                  "São Paulo",
                  "São Paulo",
                  "Sudeste",
                  "19",
                  "Masculino",
                  "Sim",
                  "9"
                ],
                [
                  "35",
                  "5677",
                  "1941",
                  "São Paulo",
                  "São Paulo",
                  "Sudeste",
                  "48",
                  "Feminino",
                  "Não",
                  "9"
                ],
                [
                  "36",
                  "4018",
                  "3567",
                  "Salvador",
                  "Bahia",
                  "Nordeste",
                  "40",
                  "Feminino",
                  "Sim",
                  "7"
                ],
                [
                  "37",
                  "3845",
                  "8827",
                  "Curitiba",
                  "Paraná",
                  "Sul",
                  "37",
                  "Feminino",
                  "Não",
                  "9"
                ],
                [
                  "38",
                  "2309",
                  "4842",
                  "São Paulo",
                  "São Paulo",
                  "Sudeste",
                  "41",
                  "Masculino",
                  "Não",
                  "10"
                ],
                [
                  "39",
                  "4553",
                  "1308",
                  "São Paulo",
                  "São Paulo",
                  "Sudeste",
                  "38",
                  "Feminino",
                  "Sim",
                  "9"
                ],
                [
                  "40",
                  "157",
                  "4158",
                  "Brasília",
                  "Distrito Federal",
                  "Centro-Oeste",
                  "27",
                  "Feminino",
                  "Não",
                  "9"
                ],
                [
                  "41",
                  "4058",
                  "5880",
                  "Porto Alegre",
                  "Rio Grande do Sul",
                  "Sul",
                  "46",
                  "Masculino",
                  "Não",
                  "9"
                ],
                [
                  "42",
                  "961",
                  "3328",
                  "Brasília",
                  "Distrito Federal",
                  "Centro-Oeste",
                  "42",
                  "Feminino",
                  "Não",
                  "9"
                ],
                [
                  "43",
                  "4775",
                  "9161",
                  "São Paulo",
                  "São Paulo",
                  "Sudeste",
                  "42",
                  "Feminino",
                  "Não",
                  "9"
                ],
                [
                  "44",
                  "5229",
                  "3509",
                  "São Paulo",
                  "São Paulo",
                  "Sudeste",
                  "31",
                  "Masculino",
                  "Sim",
                  "10"
                ],
                [
                  "45",
                  "46",
                  "7791",
                  "São Paulo",
                  "São Paulo",
                  "Sudeste",
                  "51",
                  "Feminino",
                  "Não",
                  "10"
                ],
                [
                  "46",
                  "4261",
                  "7775",
                  "São Paulo",
                  "São Paulo",
                  "Sudeste",
                  "31",
                  "Feminino",
                  "Sim",
                  "8"
                ],
                [
                  "47",
                  "1560",
                  "4376",
                  "Brasília",
                  "Distrito Federal",
                  "Centro-Oeste",
                  "56",
                  "Masculino",
                  "Não",
                  "10"
                ],
                [
                  "48",
                  "5028",
                  "8914",
                  "Natal",
                  "Rio Grande do Norte",
                  "Nordeste",
                  "26",
                  "Feminino",
                  "Sim",
                  "10"
                ],
                [
                  "49",
                  "1862",
                  "1860",
                  "São Paulo",
                  "São Paulo",
                  "Sudeste",
                  "42",
                  "Feminino",
                  "Não",
                  "7"
                ]
              ],
              "shape": {
                "columns": 9,
                "rows": 6169
              }
            },
            "text/html": [
              "<div>\n",
              "<style scoped>\n",
              "    .dataframe tbody tr th:only-of-type {\n",
              "        vertical-align: middle;\n",
              "    }\n",
              "\n",
              "    .dataframe tbody tr th {\n",
              "        vertical-align: top;\n",
              "    }\n",
              "\n",
              "    .dataframe thead th {\n",
              "        text-align: right;\n",
              "    }\n",
              "</style>\n",
              "<table border=\"1\" class=\"dataframe\">\n",
              "  <thead>\n",
              "    <tr style=\"text-align: right;\">\n",
              "      <th></th>\n",
              "      <th>ID_compra</th>\n",
              "      <th>ID_cliente</th>\n",
              "      <th>cidade</th>\n",
              "      <th>uf</th>\n",
              "      <th>regiao</th>\n",
              "      <th>idade</th>\n",
              "      <th>sexo_biologico</th>\n",
              "      <th>cashback</th>\n",
              "      <th>avaliacao_compra</th>\n",
              "    </tr>\n",
              "  </thead>\n",
              "  <tbody>\n",
              "    <tr>\n",
              "      <th>0</th>\n",
              "      <td>904</td>\n",
              "      <td>8972</td>\n",
              "      <td>Natal</td>\n",
              "      <td>Rio Grande do Norte</td>\n",
              "      <td>Nordeste</td>\n",
              "      <td>49</td>\n",
              "      <td>Masculino</td>\n",
              "      <td>Não</td>\n",
              "      <td>9</td>\n",
              "    </tr>\n",
              "    <tr>\n",
              "      <th>1</th>\n",
              "      <td>4613</td>\n",
              "      <td>5120</td>\n",
              "      <td>São Paulo</td>\n",
              "      <td>São Paulo</td>\n",
              "      <td>Sudeste</td>\n",
              "      <td>49</td>\n",
              "      <td>Feminino</td>\n",
              "      <td>Não</td>\n",
              "      <td>9</td>\n",
              "    </tr>\n",
              "    <tr>\n",
              "      <th>2</th>\n",
              "      <td>5579</td>\n",
              "      <td>1847</td>\n",
              "      <td>São Paulo</td>\n",
              "      <td>São Paulo</td>\n",
              "      <td>Sudeste</td>\n",
              "      <td>24</td>\n",
              "      <td>Feminino</td>\n",
              "      <td>Não</td>\n",
              "      <td>8</td>\n",
              "    </tr>\n",
              "    <tr>\n",
              "      <th>3</th>\n",
              "      <td>2405</td>\n",
              "      <td>2846</td>\n",
              "      <td>São Paulo</td>\n",
              "      <td>São Paulo</td>\n",
              "      <td>Sudeste</td>\n",
              "      <td>38</td>\n",
              "      <td>Feminino</td>\n",
              "      <td>Sim</td>\n",
              "      <td>7</td>\n",
              "    </tr>\n",
              "    <tr>\n",
              "      <th>4</th>\n",
              "      <td>2485</td>\n",
              "      <td>2715</td>\n",
              "      <td>Salvador</td>\n",
              "      <td>Bahia</td>\n",
              "      <td>Nordeste</td>\n",
              "      <td>30</td>\n",
              "      <td>Feminino</td>\n",
              "      <td>Não</td>\n",
              "      <td>10</td>\n",
              "    </tr>\n",
              "    <tr>\n",
              "      <th>...</th>\n",
              "      <td>...</td>\n",
              "      <td>...</td>\n",
              "      <td>...</td>\n",
              "      <td>...</td>\n",
              "      <td>...</td>\n",
              "      <td>...</td>\n",
              "      <td>...</td>\n",
              "      <td>...</td>\n",
              "      <td>...</td>\n",
              "    </tr>\n",
              "    <tr>\n",
              "      <th>6164</th>\n",
              "      <td>700</td>\n",
              "      <td>3769</td>\n",
              "      <td>Guarujá</td>\n",
              "      <td>São Paulo</td>\n",
              "      <td>Sudeste</td>\n",
              "      <td>29</td>\n",
              "      <td>Feminino</td>\n",
              "      <td>Sim</td>\n",
              "      <td>10</td>\n",
              "    </tr>\n",
              "    <tr>\n",
              "      <th>6165</th>\n",
              "      <td>1772</td>\n",
              "      <td>4557</td>\n",
              "      <td>Rio de Janeiro</td>\n",
              "      <td>Rio de Janeiro</td>\n",
              "      <td>Sudeste</td>\n",
              "      <td>31</td>\n",
              "      <td>Masculino</td>\n",
              "      <td>Não</td>\n",
              "      <td>9</td>\n",
              "    </tr>\n",
              "    <tr>\n",
              "      <th>6166</th>\n",
              "      <td>6011</td>\n",
              "      <td>8531</td>\n",
              "      <td>Natal</td>\n",
              "      <td>Rio Grande do Norte</td>\n",
              "      <td>Nordeste</td>\n",
              "      <td>48</td>\n",
              "      <td>Feminino</td>\n",
              "      <td>Não</td>\n",
              "      <td>9</td>\n",
              "    </tr>\n",
              "    <tr>\n",
              "      <th>6167</th>\n",
              "      <td>4684</td>\n",
              "      <td>9875</td>\n",
              "      <td>Guarujá</td>\n",
              "      <td>São Paulo</td>\n",
              "      <td>Sudeste</td>\n",
              "      <td>37</td>\n",
              "      <td>Feminino</td>\n",
              "      <td>Sim</td>\n",
              "      <td>9</td>\n",
              "    </tr>\n",
              "    <tr>\n",
              "      <th>6168</th>\n",
              "      <td>732</td>\n",
              "      <td>3983</td>\n",
              "      <td>Guarujá</td>\n",
              "      <td>São Paulo</td>\n",
              "      <td>Sudeste</td>\n",
              "      <td>55</td>\n",
              "      <td>Masculino</td>\n",
              "      <td>Não</td>\n",
              "      <td>8</td>\n",
              "    </tr>\n",
              "  </tbody>\n",
              "</table>\n",
              "<p>6169 rows × 9 columns</p>\n",
              "</div>"
            ],
            "text/plain": [
              "      ID_compra  ID_cliente          cidade                   uf    regiao  \\\n",
              "0           904        8972           Natal  Rio Grande do Norte  Nordeste   \n",
              "1          4613        5120       São Paulo            São Paulo   Sudeste   \n",
              "2          5579        1847       São Paulo            São Paulo   Sudeste   \n",
              "3          2405        2846       São Paulo            São Paulo   Sudeste   \n",
              "4          2485        2715        Salvador                Bahia  Nordeste   \n",
              "...         ...         ...             ...                  ...       ...   \n",
              "6164        700        3769         Guarujá            São Paulo   Sudeste   \n",
              "6165       1772        4557  Rio de Janeiro       Rio de Janeiro   Sudeste   \n",
              "6166       6011        8531           Natal  Rio Grande do Norte  Nordeste   \n",
              "6167       4684        9875         Guarujá            São Paulo   Sudeste   \n",
              "6168        732        3983         Guarujá            São Paulo   Sudeste   \n",
              "\n",
              "      idade sexo_biologico cashback  avaliacao_compra  \n",
              "0        49      Masculino      Não                 9  \n",
              "1        49       Feminino      Não                 9  \n",
              "2        24       Feminino      Não                 8  \n",
              "3        38       Feminino      Sim                 7  \n",
              "4        30       Feminino      Não                10  \n",
              "...     ...            ...      ...               ...  \n",
              "6164     29       Feminino      Sim                10  \n",
              "6165     31      Masculino      Não                 9  \n",
              "6166     48       Feminino      Não                 9  \n",
              "6167     37       Feminino      Sim                 9  \n",
              "6168     55      Masculino      Não                 8  \n",
              "\n",
              "[6169 rows x 9 columns]"
            ]
          },
          "execution_count": 24,
          "metadata": {},
          "output_type": "execute_result"
        }
      ],
      "source": [
        "clientes = pd.read_csv(url_clientes)\n",
        "clientes"
      ]
    },
    {
      "cell_type": "code",
      "execution_count": 25,
      "metadata": {},
      "outputs": [
        {
          "data": {
            "application/vnd.microsoft.datawrangler.viewer.v0+json": {
              "columns": [
                {
                  "name": "index",
                  "rawType": "int64",
                  "type": "integer"
                },
                {
                  "name": "ID_compra",
                  "rawType": "int64",
                  "type": "integer"
                },
                {
                  "name": "data",
                  "rawType": "object",
                  "type": "string"
                },
                {
                  "name": "horario",
                  "rawType": "object",
                  "type": "string"
                },
                {
                  "name": "categoria",
                  "rawType": "object",
                  "type": "string"
                },
                {
                  "name": "preco_unitario",
                  "rawType": "float64",
                  "type": "float"
                },
                {
                  "name": "quantidade",
                  "rawType": "int64",
                  "type": "integer"
                },
                {
                  "name": "frete",
                  "rawType": "float64",
                  "type": "float"
                },
                {
                  "name": "metodo_pagamento",
                  "rawType": "object",
                  "type": "string"
                }
              ],
              "ref": "005ca849-e339-4f88-b263-db93779e32e6",
              "rows": [
                [
                  "0",
                  "6",
                  "2023-01-03",
                  "20:40",
                  "Eletrônicos",
                  "4457.9",
                  "4",
                  "713.26",
                  "Boleto"
                ],
                [
                  "1",
                  "5",
                  "2023-01-03",
                  "21:48",
                  "Ferramentas e construção",
                  "115.9",
                  "1",
                  "0.0",
                  "PIX"
                ],
                [
                  "2",
                  "9",
                  "2023-01-03",
                  "17:08",
                  "Beleza e cuidados pessoais",
                  "68.9",
                  "2",
                  "13.78",
                  "Cartão de Crédito"
                ],
                [
                  "3",
                  "4",
                  "2023-01-03",
                  "14:29",
                  "Ferramentas e construção",
                  "80.9",
                  "5",
                  "40.45",
                  "PIX"
                ],
                [
                  "4",
                  "8",
                  "2023-01-03",
                  "18:02",
                  "Beleza e cuidados pessoais",
                  "165.0",
                  "4",
                  "0.0",
                  "PIX"
                ],
                [
                  "5",
                  "2",
                  "2023-01-03",
                  "18:42",
                  "Eletrônicos",
                  "5747.9",
                  "5",
                  "1724.37",
                  "PIX"
                ],
                [
                  "6",
                  "3",
                  "2023-01-03",
                  "23:47",
                  "Alimentos e bebidas",
                  "84.9",
                  "5",
                  "0.0",
                  "Cartão de Crédito"
                ],
                [
                  "7",
                  "1",
                  "2023-01-03",
                  "00:13",
                  "Eletrodomésticos",
                  "3465.9",
                  "1",
                  "138.64",
                  "PIX"
                ],
                [
                  "8",
                  "7",
                  "2023-01-03",
                  "17:40",
                  "Livros",
                  "75.9",
                  "5",
                  "18.98",
                  "Cartão de Crédito"
                ],
                [
                  "9",
                  "11",
                  "2023-01-04",
                  "21:50",
                  "Casa e limpeza",
                  "13.9",
                  "5",
                  "3.48",
                  "PIX"
                ],
                [
                  "10",
                  "19",
                  "2023-01-04",
                  "20:19",
                  "Eletrônicos",
                  "4196.9",
                  "4",
                  "2014.51",
                  "PIX"
                ],
                [
                  "11",
                  "13",
                  "2023-01-04",
                  "23:25",
                  "Beleza e cuidados pessoais",
                  "84.9",
                  "3",
                  "5.09",
                  "Cartão de Crédito"
                ],
                [
                  "12",
                  "12",
                  "2023-01-04",
                  "18:44",
                  "Casa e limpeza",
                  "40.9",
                  "3",
                  "7.36",
                  "Cartão de Débito"
                ],
                [
                  "13",
                  "14",
                  "2023-01-04",
                  "18:22",
                  "Casa e limpeza",
                  "93.9",
                  "3",
                  "22.54",
                  "PIX"
                ],
                [
                  "14",
                  "17",
                  "2023-01-04",
                  "18:29",
                  "Beleza e cuidados pessoais",
                  "188.9",
                  "3",
                  "34.0",
                  "Cartão de Crédito"
                ],
                [
                  "15",
                  "16",
                  "2023-01-04",
                  "00:04",
                  "Livros",
                  "43.9",
                  "2",
                  "7.02",
                  "Cartão de Crédito"
                ],
                [
                  "16",
                  "18",
                  "2023-01-04",
                  "00:09",
                  "Alimentos e bebidas",
                  "61.0",
                  "5",
                  "0.0",
                  "Cartão de Crédito"
                ],
                [
                  "17",
                  "10",
                  "2023-01-04",
                  "21:41",
                  "Casa e limpeza",
                  "106.9",
                  "4",
                  "0.0",
                  "Cartão de Débito"
                ],
                [
                  "18",
                  "15",
                  "2023-01-04",
                  "19:42",
                  "Alimentos e bebidas",
                  "85.9",
                  "4",
                  "13.74",
                  "Cartão de Crédito"
                ],
                [
                  "19",
                  "20",
                  "2023-01-04",
                  "20:09",
                  "Casa e limpeza",
                  "195.9",
                  "1",
                  "3.92",
                  "Cartão de Crédito"
                ],
                [
                  "20",
                  "26",
                  "2023-01-05",
                  "17:24",
                  "Alimentos e bebidas",
                  "68.9",
                  "5",
                  "37.9",
                  "Cartão de Débito"
                ],
                [
                  "21",
                  "27",
                  "2023-01-05",
                  "22:37",
                  "Beleza e cuidados pessoais",
                  "67.9",
                  "5",
                  "23.76",
                  "Boleto"
                ],
                [
                  "22",
                  "22",
                  "2023-01-05",
                  "18:40",
                  "Casa e limpeza",
                  "122.9",
                  "1",
                  "12.29",
                  "Cartão de Crédito"
                ],
                [
                  "23",
                  "29",
                  "2023-01-05",
                  "23:59",
                  "Casa e limpeza",
                  "173.0",
                  "3",
                  "46.71",
                  "Cartão de Crédito"
                ],
                [
                  "24",
                  "28",
                  "2023-01-05",
                  "14:10",
                  "Alimentos e bebidas",
                  "56.9",
                  "5",
                  "0.0",
                  "Cartão de Crédito"
                ],
                [
                  "25",
                  "25",
                  "2023-01-05",
                  "17:42",
                  "Casa e limpeza",
                  "24.9",
                  "4",
                  "0.0",
                  "Cartão de Crédito"
                ],
                [
                  "26",
                  "21",
                  "2023-01-05",
                  "00:58",
                  "Ferramentas e construção",
                  "143.9",
                  "3",
                  "0.0",
                  "Cartão de Crédito"
                ],
                [
                  "27",
                  "24",
                  "2023-01-05",
                  "17:12",
                  "Casa e limpeza",
                  "5.9",
                  "1",
                  "0.53",
                  "Cartão de Crédito"
                ],
                [
                  "28",
                  "23",
                  "2023-01-05",
                  "23:49",
                  "Eletrônicos",
                  "6943.9",
                  "4",
                  "1944.29",
                  "PIX"
                ],
                [
                  "29",
                  "30",
                  "2023-01-05",
                  "21:29",
                  "Livros",
                  "21.9",
                  "1",
                  "1.1",
                  "PIX"
                ],
                [
                  "30",
                  "36",
                  "2023-01-06",
                  "17:49",
                  "Eletrodomésticos",
                  "740.9",
                  "4",
                  "0.0",
                  "Cartão de Crédito"
                ],
                [
                  "31",
                  "31",
                  "2023-01-06",
                  "16:47",
                  "Beleza e cuidados pessoais",
                  "67.9",
                  "1",
                  "3.4",
                  "PIX"
                ],
                [
                  "32",
                  "34",
                  "2023-01-06",
                  "23:48",
                  "Alimentos e bebidas",
                  "62.9",
                  "3",
                  "5.66",
                  "Cartão de Crédito"
                ],
                [
                  "33",
                  "32",
                  "2023-01-06",
                  "23:31",
                  "Alimentos e bebidas",
                  "13.9",
                  "4",
                  "4.45",
                  "PIX"
                ],
                [
                  "34",
                  "35",
                  "2023-01-06",
                  "21:40",
                  "Alimentos e bebidas",
                  "41.9",
                  "3",
                  "0.0",
                  "Cartão de Débito"
                ],
                [
                  "35",
                  "39",
                  "2023-01-06",
                  "15:21",
                  "Livros",
                  "48.9",
                  "1",
                  "0.0",
                  "PIX"
                ],
                [
                  "36",
                  "38",
                  "2023-01-06",
                  "23:36",
                  "Alimentos e bebidas",
                  "62.9",
                  "2",
                  "5.03",
                  "PIX"
                ],
                [
                  "37",
                  "33",
                  "2023-01-06",
                  "18:12",
                  "Casa e limpeza",
                  "164.9",
                  "3",
                  "9.89",
                  "Cartão de Crédito"
                ],
                [
                  "38",
                  "37",
                  "2023-01-06",
                  "00:31",
                  "Eletrodomésticos",
                  "1754.0",
                  "3",
                  "0.0",
                  "Cartão de Crédito"
                ],
                [
                  "39",
                  "42",
                  "2023-01-07",
                  "16:22",
                  "Beleza e cuidados pessoais",
                  "174.9",
                  "3",
                  "5.25",
                  "PIX"
                ],
                [
                  "40",
                  "47",
                  "2023-01-07",
                  "23:46",
                  "Alimentos e bebidas",
                  "47.9",
                  "1",
                  "1.44",
                  "PIX"
                ],
                [
                  "41",
                  "46",
                  "2023-01-07",
                  "21:27",
                  "Ferramentas e construção",
                  "135.0",
                  "2",
                  "0.0",
                  "Cartão de Crédito"
                ],
                [
                  "42",
                  "40",
                  "2023-01-07",
                  "17:11",
                  "Papelaria e escritório",
                  "7.0",
                  "2",
                  "0.7",
                  "PIX"
                ],
                [
                  "43",
                  "49",
                  "2023-01-07",
                  "21:17",
                  "Ferramentas e construção",
                  "299.9",
                  "3",
                  "0.0",
                  "Cartão de Crédito"
                ],
                [
                  "44",
                  "50",
                  "2023-01-07",
                  "20:28",
                  "Alimentos e bebidas",
                  "45.9",
                  "3",
                  "11.02",
                  "PIX"
                ],
                [
                  "45",
                  "45",
                  "2023-01-07",
                  "20:10",
                  "Ferramentas e construção",
                  "264.9",
                  "5",
                  "79.47",
                  "Cartão de Crédito"
                ],
                [
                  "46",
                  "41",
                  "2023-01-07",
                  "18:47",
                  "Beleza e cuidados pessoais",
                  "191.9",
                  "4",
                  "53.73",
                  "PIX"
                ],
                [
                  "47",
                  "48",
                  "2023-01-07",
                  "16:53",
                  "Alimentos e bebidas",
                  "31.9",
                  "1",
                  "1.91",
                  "Cartão de Crédito"
                ],
                [
                  "48",
                  "43",
                  "2023-01-07",
                  "22:29",
                  "Alimentos e bebidas",
                  "95.9",
                  "3",
                  "8.63",
                  "PIX"
                ],
                [
                  "49",
                  "44",
                  "2023-01-07",
                  "23:08",
                  "Beleza e cuidados pessoais",
                  "131.9",
                  "5",
                  "46.17",
                  "Cartão de Débito"
                ]
              ],
              "shape": {
                "columns": 8,
                "rows": 6169
              }
            },
            "text/html": [
              "<div>\n",
              "<style scoped>\n",
              "    .dataframe tbody tr th:only-of-type {\n",
              "        vertical-align: middle;\n",
              "    }\n",
              "\n",
              "    .dataframe tbody tr th {\n",
              "        vertical-align: top;\n",
              "    }\n",
              "\n",
              "    .dataframe thead th {\n",
              "        text-align: right;\n",
              "    }\n",
              "</style>\n",
              "<table border=\"1\" class=\"dataframe\">\n",
              "  <thead>\n",
              "    <tr style=\"text-align: right;\">\n",
              "      <th></th>\n",
              "      <th>ID_compra</th>\n",
              "      <th>data</th>\n",
              "      <th>horario</th>\n",
              "      <th>categoria</th>\n",
              "      <th>preco_unitario</th>\n",
              "      <th>quantidade</th>\n",
              "      <th>frete</th>\n",
              "      <th>metodo_pagamento</th>\n",
              "    </tr>\n",
              "  </thead>\n",
              "  <tbody>\n",
              "    <tr>\n",
              "      <th>0</th>\n",
              "      <td>6</td>\n",
              "      <td>2023-01-03</td>\n",
              "      <td>20:40</td>\n",
              "      <td>Eletrônicos</td>\n",
              "      <td>4457.9</td>\n",
              "      <td>4</td>\n",
              "      <td>713.26</td>\n",
              "      <td>Boleto</td>\n",
              "    </tr>\n",
              "    <tr>\n",
              "      <th>1</th>\n",
              "      <td>5</td>\n",
              "      <td>2023-01-03</td>\n",
              "      <td>21:48</td>\n",
              "      <td>Ferramentas e construção</td>\n",
              "      <td>115.9</td>\n",
              "      <td>1</td>\n",
              "      <td>0.00</td>\n",
              "      <td>PIX</td>\n",
              "    </tr>\n",
              "    <tr>\n",
              "      <th>2</th>\n",
              "      <td>9</td>\n",
              "      <td>2023-01-03</td>\n",
              "      <td>17:08</td>\n",
              "      <td>Beleza e cuidados pessoais</td>\n",
              "      <td>68.9</td>\n",
              "      <td>2</td>\n",
              "      <td>13.78</td>\n",
              "      <td>Cartão de Crédito</td>\n",
              "    </tr>\n",
              "    <tr>\n",
              "      <th>3</th>\n",
              "      <td>4</td>\n",
              "      <td>2023-01-03</td>\n",
              "      <td>14:29</td>\n",
              "      <td>Ferramentas e construção</td>\n",
              "      <td>80.9</td>\n",
              "      <td>5</td>\n",
              "      <td>40.45</td>\n",
              "      <td>PIX</td>\n",
              "    </tr>\n",
              "    <tr>\n",
              "      <th>4</th>\n",
              "      <td>8</td>\n",
              "      <td>2023-01-03</td>\n",
              "      <td>18:02</td>\n",
              "      <td>Beleza e cuidados pessoais</td>\n",
              "      <td>165.0</td>\n",
              "      <td>4</td>\n",
              "      <td>0.00</td>\n",
              "      <td>PIX</td>\n",
              "    </tr>\n",
              "    <tr>\n",
              "      <th>...</th>\n",
              "      <td>...</td>\n",
              "      <td>...</td>\n",
              "      <td>...</td>\n",
              "      <td>...</td>\n",
              "      <td>...</td>\n",
              "      <td>...</td>\n",
              "      <td>...</td>\n",
              "      <td>...</td>\n",
              "    </tr>\n",
              "    <tr>\n",
              "      <th>6164</th>\n",
              "      <td>6141</td>\n",
              "      <td>2023-12-31</td>\n",
              "      <td>17:49</td>\n",
              "      <td>Eletrodomésticos</td>\n",
              "      <td>1509.9</td>\n",
              "      <td>5</td>\n",
              "      <td>377.48</td>\n",
              "      <td>Cartão de Crédito</td>\n",
              "    </tr>\n",
              "    <tr>\n",
              "      <th>6165</th>\n",
              "      <td>6148</td>\n",
              "      <td>2023-12-31</td>\n",
              "      <td>23:02</td>\n",
              "      <td>Papelaria e escritório</td>\n",
              "      <td>14.0</td>\n",
              "      <td>2</td>\n",
              "      <td>3.36</td>\n",
              "      <td>PIX</td>\n",
              "    </tr>\n",
              "    <tr>\n",
              "      <th>6166</th>\n",
              "      <td>6123</td>\n",
              "      <td>2023-12-31</td>\n",
              "      <td>21:25</td>\n",
              "      <td>Alimentos e bebidas</td>\n",
              "      <td>77.9</td>\n",
              "      <td>1</td>\n",
              "      <td>7.79</td>\n",
              "      <td>Cartão de Crédito</td>\n",
              "    </tr>\n",
              "    <tr>\n",
              "      <th>6167</th>\n",
              "      <td>6147</td>\n",
              "      <td>2023-12-31</td>\n",
              "      <td>21:38</td>\n",
              "      <td>Livros</td>\n",
              "      <td>142.9</td>\n",
              "      <td>4</td>\n",
              "      <td>17.15</td>\n",
              "      <td>Cartão de Crédito</td>\n",
              "    </tr>\n",
              "    <tr>\n",
              "      <th>6168</th>\n",
              "      <td>6122</td>\n",
              "      <td>2023-12-31</td>\n",
              "      <td>22:11</td>\n",
              "      <td>Beleza e cuidados pessoais</td>\n",
              "      <td>89.9</td>\n",
              "      <td>5</td>\n",
              "      <td>13.48</td>\n",
              "      <td>Cartão de Crédito</td>\n",
              "    </tr>\n",
              "  </tbody>\n",
              "</table>\n",
              "<p>6169 rows × 8 columns</p>\n",
              "</div>"
            ],
            "text/plain": [
              "      ID_compra        data horario                   categoria  \\\n",
              "0             6  2023-01-03   20:40                 Eletrônicos   \n",
              "1             5  2023-01-03   21:48    Ferramentas e construção   \n",
              "2             9  2023-01-03   17:08  Beleza e cuidados pessoais   \n",
              "3             4  2023-01-03   14:29    Ferramentas e construção   \n",
              "4             8  2023-01-03   18:02  Beleza e cuidados pessoais   \n",
              "...         ...         ...     ...                         ...   \n",
              "6164       6141  2023-12-31   17:49            Eletrodomésticos   \n",
              "6165       6148  2023-12-31   23:02      Papelaria e escritório   \n",
              "6166       6123  2023-12-31   21:25         Alimentos e bebidas   \n",
              "6167       6147  2023-12-31   21:38                      Livros   \n",
              "6168       6122  2023-12-31   22:11  Beleza e cuidados pessoais   \n",
              "\n",
              "      preco_unitario  quantidade   frete   metodo_pagamento  \n",
              "0             4457.9           4  713.26             Boleto  \n",
              "1              115.9           1    0.00                PIX  \n",
              "2               68.9           2   13.78  Cartão de Crédito  \n",
              "3               80.9           5   40.45                PIX  \n",
              "4              165.0           4    0.00                PIX  \n",
              "...              ...         ...     ...                ...  \n",
              "6164          1509.9           5  377.48  Cartão de Crédito  \n",
              "6165            14.0           2    3.36                PIX  \n",
              "6166            77.9           1    7.79  Cartão de Crédito  \n",
              "6167           142.9           4   17.15  Cartão de Crédito  \n",
              "6168            89.9           5   13.48  Cartão de Crédito  \n",
              "\n",
              "[6169 rows x 8 columns]"
            ]
          },
          "execution_count": 25,
          "metadata": {},
          "output_type": "execute_result"
        }
      ],
      "source": [
        "vendas = pd.read_csv(url_vendas)\n",
        "vendas"
      ]
    },
    {
      "cell_type": "code",
      "execution_count": 26,
      "metadata": {},
      "outputs": [
        {
          "data": {
            "application/vnd.microsoft.datawrangler.viewer.v0+json": {
              "columns": [
                {
                  "name": "index",
                  "rawType": "int64",
                  "type": "integer"
                },
                {
                  "name": "ID_cliente",
                  "rawType": "int64",
                  "type": "integer"
                },
                {
                  "name": "zoop_pay",
                  "rawType": "object",
                  "type": "string"
                }
              ],
              "ref": "2b4ea5cd-5df8-41c7-8539-c88c8f975d7c",
              "rows": [
                [
                  "0",
                  "6149",
                  "Não"
                ],
                [
                  "1",
                  "9491",
                  "Sim"
                ],
                [
                  "2",
                  "5288",
                  "Não"
                ],
                [
                  "3",
                  "9679",
                  "Sim"
                ],
                [
                  "4",
                  "1380",
                  "Não"
                ],
                [
                  "5",
                  "2771",
                  "Não"
                ],
                [
                  "6",
                  "1960",
                  "Não"
                ],
                [
                  "7",
                  "5146",
                  "Não"
                ],
                [
                  "8",
                  "3106",
                  "Não"
                ],
                [
                  "9",
                  "8765",
                  "Não"
                ],
                [
                  "10",
                  "9528",
                  "Sim"
                ],
                [
                  "11",
                  "9030",
                  "Não"
                ],
                [
                  "12",
                  "5203",
                  "Não"
                ],
                [
                  "13",
                  "2781",
                  "Sim"
                ],
                [
                  "14",
                  "9813",
                  "Sim"
                ],
                [
                  "15",
                  "1012",
                  "Não"
                ],
                [
                  "16",
                  "6492",
                  "Não"
                ],
                [
                  "17",
                  "1055",
                  "Não"
                ],
                [
                  "18",
                  "9682",
                  "Não"
                ],
                [
                  "19",
                  "4825",
                  "Não"
                ],
                [
                  "20",
                  "1632",
                  "Não"
                ],
                [
                  "21",
                  "1049",
                  "Não"
                ],
                [
                  "22",
                  "2291",
                  "Não"
                ],
                [
                  "23",
                  "2134",
                  "Não"
                ],
                [
                  "24",
                  "1955",
                  "Não"
                ],
                [
                  "25",
                  "2411",
                  "Não"
                ],
                [
                  "26",
                  "6284",
                  "Não"
                ],
                [
                  "27",
                  "9153",
                  "Não"
                ],
                [
                  "28",
                  "6192",
                  "Não"
                ],
                [
                  "29",
                  "2269",
                  "Não"
                ],
                [
                  "30",
                  "4977",
                  "Não"
                ],
                [
                  "31",
                  "5768",
                  "Sim"
                ],
                [
                  "32",
                  "8471",
                  "Sim"
                ],
                [
                  "33",
                  "3966",
                  "Sim"
                ],
                [
                  "34",
                  "9430",
                  "Não"
                ],
                [
                  "35",
                  "8319",
                  "Sim"
                ],
                [
                  "36",
                  "9012",
                  "Não"
                ],
                [
                  "37",
                  "4240",
                  "Não"
                ],
                [
                  "38",
                  "7956",
                  "Não"
                ],
                [
                  "39",
                  "1777",
                  "Não"
                ],
                [
                  "40",
                  "7178",
                  "Não"
                ],
                [
                  "41",
                  "7791",
                  "Não"
                ],
                [
                  "42",
                  "2407",
                  "Não"
                ],
                [
                  "43",
                  "1327",
                  "Não"
                ],
                [
                  "44",
                  "2865",
                  "Não"
                ],
                [
                  "45",
                  "9202",
                  "Não"
                ],
                [
                  "46",
                  "8968",
                  "Sim"
                ],
                [
                  "47",
                  "7021",
                  "Não"
                ],
                [
                  "48",
                  "6087",
                  "Não"
                ],
                [
                  "49",
                  "8747",
                  "Não"
                ]
              ],
              "shape": {
                "columns": 2,
                "rows": 4453
              }
            },
            "text/html": [
              "<div>\n",
              "<style scoped>\n",
              "    .dataframe tbody tr th:only-of-type {\n",
              "        vertical-align: middle;\n",
              "    }\n",
              "\n",
              "    .dataframe tbody tr th {\n",
              "        vertical-align: top;\n",
              "    }\n",
              "\n",
              "    .dataframe thead th {\n",
              "        text-align: right;\n",
              "    }\n",
              "</style>\n",
              "<table border=\"1\" class=\"dataframe\">\n",
              "  <thead>\n",
              "    <tr style=\"text-align: right;\">\n",
              "      <th></th>\n",
              "      <th>ID_cliente</th>\n",
              "      <th>zoop_pay</th>\n",
              "    </tr>\n",
              "  </thead>\n",
              "  <tbody>\n",
              "    <tr>\n",
              "      <th>0</th>\n",
              "      <td>6149</td>\n",
              "      <td>Não</td>\n",
              "    </tr>\n",
              "    <tr>\n",
              "      <th>1</th>\n",
              "      <td>9491</td>\n",
              "      <td>Sim</td>\n",
              "    </tr>\n",
              "    <tr>\n",
              "      <th>2</th>\n",
              "      <td>5288</td>\n",
              "      <td>Não</td>\n",
              "    </tr>\n",
              "    <tr>\n",
              "      <th>3</th>\n",
              "      <td>9679</td>\n",
              "      <td>Sim</td>\n",
              "    </tr>\n",
              "    <tr>\n",
              "      <th>4</th>\n",
              "      <td>1380</td>\n",
              "      <td>Não</td>\n",
              "    </tr>\n",
              "    <tr>\n",
              "      <th>...</th>\n",
              "      <td>...</td>\n",
              "      <td>...</td>\n",
              "    </tr>\n",
              "    <tr>\n",
              "      <th>4448</th>\n",
              "      <td>5291</td>\n",
              "      <td>Não</td>\n",
              "    </tr>\n",
              "    <tr>\n",
              "      <th>4449</th>\n",
              "      <td>6035</td>\n",
              "      <td>Não</td>\n",
              "    </tr>\n",
              "    <tr>\n",
              "      <th>4450</th>\n",
              "      <td>7361</td>\n",
              "      <td>Não</td>\n",
              "    </tr>\n",
              "    <tr>\n",
              "      <th>4451</th>\n",
              "      <td>4516</td>\n",
              "      <td>Não</td>\n",
              "    </tr>\n",
              "    <tr>\n",
              "      <th>4452</th>\n",
              "      <td>8022</td>\n",
              "      <td>Sim</td>\n",
              "    </tr>\n",
              "  </tbody>\n",
              "</table>\n",
              "<p>4453 rows × 2 columns</p>\n",
              "</div>"
            ],
            "text/plain": [
              "      ID_cliente zoop_pay\n",
              "0           6149      Não\n",
              "1           9491      Sim\n",
              "2           5288      Não\n",
              "3           9679      Sim\n",
              "4           1380      Não\n",
              "...          ...      ...\n",
              "4448        5291      Não\n",
              "4449        6035      Não\n",
              "4450        7361      Não\n",
              "4451        4516      Não\n",
              "4452        8022      Sim\n",
              "\n",
              "[4453 rows x 2 columns]"
            ]
          },
          "execution_count": 26,
          "metadata": {},
          "output_type": "execute_result"
        }
      ],
      "source": [
        "zoop_pay = pd.read_csv(url_zoop_pay)\n",
        "zoop_pay"
      ]
    },
    {
      "cell_type": "markdown",
      "metadata": {
        "id": "IA3M1eso_L2Z"
      },
      "source": [
        "## Aula 01 - Conhecendo os dados"
      ]
    },
    {
      "cell_type": "markdown",
      "metadata": {
        "id": "AmpR_VE4CImQ"
      },
      "source": [
        "### Mão na Massa - Zoop Pay"
      ]
    },
    {
      "cell_type": "markdown",
      "metadata": {},
      "source": [
        "> #### <strong><font color=\"#203f75\" size= 6>Prompt:</font></strong>\n",
        "\n",
        "Estou criando uma análise de dados em Python utilizando a biblioteca Pandas. Me ajude escrevendo o passo a\n",
        "passo do código.\n",
        "\n",
        "Preciso ler três url's contendo tabelas csv, sendo clientes,vendas e zoop_pay.\n",
        "Os arquivos que vamos utilizar são:\n",
        "Dados de clientes do e-commerce da Zoop, separados pelo código identificador da compra (ID_compra). \n",
        "Dados de vendas do e-commerce da Zoop em 2023, separados pelo código identificador da compra.\n",
        "Dados de clientes pré-cadastrados no Zoop Pay, carteira digital da Zoop em processo de implementação.\n",
        "\n",
        "Primeiro, junte os dados de clientes e vendas em uma tabela com nome df.\n",
        "\n",
        "Segundo, organize as colunas na seguinte sequência:\n",
        "[\"ID_compra\", \"data\", \"horario\", \"categoria\", \"preco_unitario\", \"quantidade\", \"frete\", \"metodo_pagamento\", \"ID_cliente\", \"idade\", \"sexo_biologico\", \"cidade\", \"uf\", \"regiao\", \"cashback\", \"avaliacao_compra\"]\n",
        "\n",
        "Terceiro: junte a tabela criada (clientes+vendas) com a base de dados clientes pré-cadastrados \n",
        "no Zoop Pay, gerando assim a tabela consolidada com todos os dados."
      ]
    },
    {
      "cell_type": "code",
      "execution_count": 27,
      "metadata": {
        "id": "ZruvypSoO6oP"
      },
      "outputs": [],
      "source": [
        "# Realizar a junção entre clientes e vendas com base em \"ID_compra\"\n",
        "df = pd.merge(clientes, vendas, on='ID_compra')\n",
        "df_zoop_pay = df"
      ]
    },
    {
      "cell_type": "code",
      "execution_count": 28,
      "metadata": {},
      "outputs": [],
      "source": [
        "# Reorganizar as colunas na ordem\n",
        "colunas_ordenadas = [\n",
        "    \"ID_compra\", \"data\", \"horario\", \"categoria\", \"preco_unitario\", \"quantidade\",\n",
        "    \"frete\", \"metodo_pagamento\", \"ID_cliente\", \"idade\", \"sexo_biologico\",\n",
        "    \"cidade\", \"uf\", \"regiao\", \"cashback\", \"avaliacao_compra\"\n",
        "]"
      ]
    },
    {
      "cell_type": "code",
      "execution_count": 29,
      "metadata": {},
      "outputs": [],
      "source": [
        "# Manter apenas as colunas que existem no dataframe\n",
        "colunas_existentes = [col for col in colunas_ordenadas if col in df_zoop_pay.columns]\n",
        "df_zoop_pay = df_zoop_pay[colunas_existentes]"
      ]
    },
    {
      "cell_type": "code",
      "execution_count": 30,
      "metadata": {},
      "outputs": [],
      "source": [
        "# Juntar o resultado com os dados do Zoop Pay, também pela chave \"ID_compra\"\n",
        "df_zoop_pay = pd.merge(df, zoop_pay, on='ID_cliente')"
      ]
    },
    {
      "cell_type": "code",
      "execution_count": 31,
      "metadata": {},
      "outputs": [
        {
          "data": {
            "application/vnd.microsoft.datawrangler.viewer.v0+json": {
              "columns": [
                {
                  "name": "index",
                  "rawType": "int64",
                  "type": "integer"
                },
                {
                  "name": "ID_compra",
                  "rawType": "int64",
                  "type": "integer"
                },
                {
                  "name": "ID_cliente",
                  "rawType": "int64",
                  "type": "integer"
                },
                {
                  "name": "cidade",
                  "rawType": "object",
                  "type": "string"
                },
                {
                  "name": "uf",
                  "rawType": "object",
                  "type": "string"
                },
                {
                  "name": "regiao",
                  "rawType": "object",
                  "type": "string"
                },
                {
                  "name": "idade",
                  "rawType": "int64",
                  "type": "integer"
                },
                {
                  "name": "sexo_biologico",
                  "rawType": "object",
                  "type": "string"
                },
                {
                  "name": "cashback",
                  "rawType": "object",
                  "type": "string"
                },
                {
                  "name": "avaliacao_compra",
                  "rawType": "int64",
                  "type": "integer"
                },
                {
                  "name": "data",
                  "rawType": "object",
                  "type": "string"
                },
                {
                  "name": "horario",
                  "rawType": "object",
                  "type": "string"
                },
                {
                  "name": "categoria",
                  "rawType": "object",
                  "type": "string"
                },
                {
                  "name": "preco_unitario",
                  "rawType": "float64",
                  "type": "float"
                },
                {
                  "name": "quantidade",
                  "rawType": "int64",
                  "type": "integer"
                },
                {
                  "name": "frete",
                  "rawType": "float64",
                  "type": "float"
                },
                {
                  "name": "metodo_pagamento",
                  "rawType": "object",
                  "type": "string"
                },
                {
                  "name": "zoop_pay",
                  "rawType": "object",
                  "type": "string"
                }
              ],
              "ref": "0f840b11-41f0-4718-89f3-6204de440218",
              "rows": [
                [
                  "0",
                  "904",
                  "8972",
                  "Natal",
                  "Rio Grande do Norte",
                  "Nordeste",
                  "49",
                  "Masculino",
                  "Não",
                  "9",
                  "2023-04-23",
                  "16:51",
                  "Alimentos e bebidas",
                  "65.9",
                  "1",
                  "5.27",
                  "Cartão de Crédito",
                  "Não"
                ],
                [
                  "1",
                  "4613",
                  "5120",
                  "São Paulo",
                  "São Paulo",
                  "Sudeste",
                  "49",
                  "Feminino",
                  "Não",
                  "9",
                  "2023-11-23",
                  "15:48",
                  "Alimentos e bebidas",
                  "78.9",
                  "4",
                  "0.0",
                  "PIX",
                  "Não"
                ],
                [
                  "2",
                  "5579",
                  "1847",
                  "São Paulo",
                  "São Paulo",
                  "Sudeste",
                  "24",
                  "Feminino",
                  "Não",
                  "8",
                  "2023-12-17",
                  "21:49",
                  "Livros",
                  "64.9",
                  "5",
                  "0.0",
                  "Cartão de Débito",
                  "Não"
                ],
                [
                  "3",
                  "2405",
                  "2846",
                  "São Paulo",
                  "São Paulo",
                  "Sudeste",
                  "38",
                  "Feminino",
                  "Sim",
                  "7",
                  "2023-07-28",
                  "19:32",
                  "Alimentos e bebidas",
                  "79.9",
                  "2",
                  "0.0",
                  "PIX",
                  "Sim"
                ],
                [
                  "4",
                  "2485",
                  "2715",
                  "Salvador",
                  "Bahia",
                  "Nordeste",
                  "30",
                  "Feminino",
                  "Não",
                  "10",
                  "2023-08-03",
                  "16:00",
                  "Casa e limpeza",
                  "75.9",
                  "5",
                  "30.36",
                  "Cartão de Crédito",
                  "Não"
                ]
              ],
              "shape": {
                "columns": 17,
                "rows": 5
              }
            },
            "text/html": [
              "<div>\n",
              "<style scoped>\n",
              "    .dataframe tbody tr th:only-of-type {\n",
              "        vertical-align: middle;\n",
              "    }\n",
              "\n",
              "    .dataframe tbody tr th {\n",
              "        vertical-align: top;\n",
              "    }\n",
              "\n",
              "    .dataframe thead th {\n",
              "        text-align: right;\n",
              "    }\n",
              "</style>\n",
              "<table border=\"1\" class=\"dataframe\">\n",
              "  <thead>\n",
              "    <tr style=\"text-align: right;\">\n",
              "      <th></th>\n",
              "      <th>ID_compra</th>\n",
              "      <th>ID_cliente</th>\n",
              "      <th>cidade</th>\n",
              "      <th>uf</th>\n",
              "      <th>regiao</th>\n",
              "      <th>idade</th>\n",
              "      <th>sexo_biologico</th>\n",
              "      <th>cashback</th>\n",
              "      <th>avaliacao_compra</th>\n",
              "      <th>data</th>\n",
              "      <th>horario</th>\n",
              "      <th>categoria</th>\n",
              "      <th>preco_unitario</th>\n",
              "      <th>quantidade</th>\n",
              "      <th>frete</th>\n",
              "      <th>metodo_pagamento</th>\n",
              "      <th>zoop_pay</th>\n",
              "    </tr>\n",
              "  </thead>\n",
              "  <tbody>\n",
              "    <tr>\n",
              "      <th>0</th>\n",
              "      <td>904</td>\n",
              "      <td>8972</td>\n",
              "      <td>Natal</td>\n",
              "      <td>Rio Grande do Norte</td>\n",
              "      <td>Nordeste</td>\n",
              "      <td>49</td>\n",
              "      <td>Masculino</td>\n",
              "      <td>Não</td>\n",
              "      <td>9</td>\n",
              "      <td>2023-04-23</td>\n",
              "      <td>16:51</td>\n",
              "      <td>Alimentos e bebidas</td>\n",
              "      <td>65.9</td>\n",
              "      <td>1</td>\n",
              "      <td>5.27</td>\n",
              "      <td>Cartão de Crédito</td>\n",
              "      <td>Não</td>\n",
              "    </tr>\n",
              "    <tr>\n",
              "      <th>1</th>\n",
              "      <td>4613</td>\n",
              "      <td>5120</td>\n",
              "      <td>São Paulo</td>\n",
              "      <td>São Paulo</td>\n",
              "      <td>Sudeste</td>\n",
              "      <td>49</td>\n",
              "      <td>Feminino</td>\n",
              "      <td>Não</td>\n",
              "      <td>9</td>\n",
              "      <td>2023-11-23</td>\n",
              "      <td>15:48</td>\n",
              "      <td>Alimentos e bebidas</td>\n",
              "      <td>78.9</td>\n",
              "      <td>4</td>\n",
              "      <td>0.00</td>\n",
              "      <td>PIX</td>\n",
              "      <td>Não</td>\n",
              "    </tr>\n",
              "    <tr>\n",
              "      <th>2</th>\n",
              "      <td>5579</td>\n",
              "      <td>1847</td>\n",
              "      <td>São Paulo</td>\n",
              "      <td>São Paulo</td>\n",
              "      <td>Sudeste</td>\n",
              "      <td>24</td>\n",
              "      <td>Feminino</td>\n",
              "      <td>Não</td>\n",
              "      <td>8</td>\n",
              "      <td>2023-12-17</td>\n",
              "      <td>21:49</td>\n",
              "      <td>Livros</td>\n",
              "      <td>64.9</td>\n",
              "      <td>5</td>\n",
              "      <td>0.00</td>\n",
              "      <td>Cartão de Débito</td>\n",
              "      <td>Não</td>\n",
              "    </tr>\n",
              "    <tr>\n",
              "      <th>3</th>\n",
              "      <td>2405</td>\n",
              "      <td>2846</td>\n",
              "      <td>São Paulo</td>\n",
              "      <td>São Paulo</td>\n",
              "      <td>Sudeste</td>\n",
              "      <td>38</td>\n",
              "      <td>Feminino</td>\n",
              "      <td>Sim</td>\n",
              "      <td>7</td>\n",
              "      <td>2023-07-28</td>\n",
              "      <td>19:32</td>\n",
              "      <td>Alimentos e bebidas</td>\n",
              "      <td>79.9</td>\n",
              "      <td>2</td>\n",
              "      <td>0.00</td>\n",
              "      <td>PIX</td>\n",
              "      <td>Sim</td>\n",
              "    </tr>\n",
              "    <tr>\n",
              "      <th>4</th>\n",
              "      <td>2485</td>\n",
              "      <td>2715</td>\n",
              "      <td>Salvador</td>\n",
              "      <td>Bahia</td>\n",
              "      <td>Nordeste</td>\n",
              "      <td>30</td>\n",
              "      <td>Feminino</td>\n",
              "      <td>Não</td>\n",
              "      <td>10</td>\n",
              "      <td>2023-08-03</td>\n",
              "      <td>16:00</td>\n",
              "      <td>Casa e limpeza</td>\n",
              "      <td>75.9</td>\n",
              "      <td>5</td>\n",
              "      <td>30.36</td>\n",
              "      <td>Cartão de Crédito</td>\n",
              "      <td>Não</td>\n",
              "    </tr>\n",
              "  </tbody>\n",
              "</table>\n",
              "</div>"
            ],
            "text/plain": [
              "   ID_compra  ID_cliente     cidade                   uf    regiao  idade  \\\n",
              "0        904        8972      Natal  Rio Grande do Norte  Nordeste     49   \n",
              "1       4613        5120  São Paulo            São Paulo   Sudeste     49   \n",
              "2       5579        1847  São Paulo            São Paulo   Sudeste     24   \n",
              "3       2405        2846  São Paulo            São Paulo   Sudeste     38   \n",
              "4       2485        2715   Salvador                Bahia  Nordeste     30   \n",
              "\n",
              "  sexo_biologico cashback  avaliacao_compra        data horario  \\\n",
              "0      Masculino      Não                 9  2023-04-23   16:51   \n",
              "1       Feminino      Não                 9  2023-11-23   15:48   \n",
              "2       Feminino      Não                 8  2023-12-17   21:49   \n",
              "3       Feminino      Sim                 7  2023-07-28   19:32   \n",
              "4       Feminino      Não                10  2023-08-03   16:00   \n",
              "\n",
              "             categoria  preco_unitario  quantidade  frete   metodo_pagamento  \\\n",
              "0  Alimentos e bebidas            65.9           1   5.27  Cartão de Crédito   \n",
              "1  Alimentos e bebidas            78.9           4   0.00                PIX   \n",
              "2               Livros            64.9           5   0.00   Cartão de Débito   \n",
              "3  Alimentos e bebidas            79.9           2   0.00                PIX   \n",
              "4       Casa e limpeza            75.9           5  30.36  Cartão de Crédito   \n",
              "\n",
              "  zoop_pay  \n",
              "0      Não  \n",
              "1      Não  \n",
              "2      Não  \n",
              "3      Sim  \n",
              "4      Não  "
            ]
          },
          "execution_count": 31,
          "metadata": {},
          "output_type": "execute_result"
        }
      ],
      "source": [
        "df_zoop_pay.head()"
      ]
    },
    {
      "cell_type": "markdown",
      "metadata": {
        "id": "ix1N_JAH_T1C"
      },
      "source": [
        "## Aula 02 - Visualizando os dados"
      ]
    },
    {
      "cell_type": "markdown",
      "metadata": {
        "id": "1sZUt4Nk_scq"
      },
      "source": [
        "### Mão na Massa - Gerando visuais em relação a localidade"
      ]
    },
    {
      "cell_type": "markdown",
      "metadata": {},
      "source": [
        "#### Desafio 1:"
      ]
    },
    {
      "cell_type": "markdown",
      "metadata": {},
      "source": [
        "> #### <strong><font color=\"#203f75\" size= 6>Prompt:</font></strong>\n",
        "\n",
        "Construa e execute um código em Python para gerar a partir de nossa base de dados um visual que apresente o faturamento das vendas por região. O faturamento é dado pelo produto do valor unitário pela quantidade comprada somado ao frete."
      ]
    },
    {
      "cell_type": "code",
      "execution_count": 32,
      "metadata": {
        "id": "EQ2k1j6f_scv"
      },
      "outputs": [],
      "source": [
        "# Calcula o faturamento\n",
        "df['faturamento'] = df['preco_unitario'] * df['quantidade'] + df['frete']"
      ]
    },
    {
      "cell_type": "code",
      "execution_count": 33,
      "metadata": {},
      "outputs": [],
      "source": [
        "# Agrupa por região e soma o faturamento\n",
        "faturamento_por_regiao = df.groupby('regiao')['faturamento'].sum().reset_index()"
      ]
    },
    {
      "cell_type": "code",
      "execution_count": 37,
      "metadata": {},
      "outputs": [],
      "source": [
        "import matplotlib.pyplot as plt\n",
        "import seaborn as sns"
      ]
    },
    {
      "cell_type": "code",
      "execution_count": 38,
      "metadata": {},
      "outputs": [
        {
          "data": {
            "image/png": "[encoded data removed]",
            "text/plain": [
              "<Figure size 1000x600 with 1 Axes>"
            ]
          },
          "metadata": {},
          "output_type": "display_data"
        }
      ],
      "source": [
        "# Cria o gráfico de barras com Seaborn\n",
        "plt.figure(figsize=(10, 6))\n",
        "sns.barplot(x='regiao', y='faturamento', data=faturamento_por_regiao)\n",
        "plt.title('Faturamento das Vendas por Região')\n",
        "plt.xlabel('Região')\n",
        "plt.ylabel('Faturamento')\n",
        "plt.grid(axis='y', linestyle='--', alpha=0.7)"
      ]
    },
    {
      "cell_type": "markdown",
      "metadata": {},
      "source": [
        "#### Desafio 2:"
      ]
    },
    {
      "cell_type": "markdown",
      "metadata": {},
      "source": [
        "> #### <strong><font color=\"#203f75\" size= 6>Prompt:</font></strong>\n",
        "\n",
        "A Zoop quer realizar uma campanha nos estados de São Paulo e Rio de Janeiro, para isso, precisa saber o perfil de seu público de acordo com o sexo biológico. Construa e execute um código para gerar a partir de nossa base de dados um visual que apresente a composição do público por sexo biológico nos estados de São Paulo e Rio de Janeiro. Agrupe ou empilhe os dados para apresentação."
      ]
    },
    {
      "cell_type": "code",
      "execution_count": 45,
      "metadata": {
        "id": "kz2xGyH0_scv"
      },
      "outputs": [],
      "source": [
        "estados_para_analise = ['São Paulo', 'Rio de Janeiro']\n",
        "df_filtrado = clientes[clientes['uf'].isin(estados_para_analise)]"
      ]
    },
    {
      "cell_type": "code",
      "execution_count": 46,
      "metadata": {},
      "outputs": [],
      "source": [
        "contagem_por_sexo_uf = df_filtrado.groupby(['uf', 'sexo_biologico'])['ID_cliente'].nunique().unstack(fill_value=0)"
      ]
    },
    {
      "cell_type": "code",
      "execution_count": 47,
      "metadata": {},
      "outputs": [
        {
          "data": {
            "image/png": "[encoded data removed]",
            "text/plain": [
              "<Figure size 1000x700 with 1 Axes>"
            ]
          },
          "metadata": {},
          "output_type": "display_data"
        }
      ],
      "source": [
        "# Criar o gráfico de barras empilhado\n",
        "eixo = contagem_por_sexo_uf.plot(kind='bar', stacked=True, figsize=(10, 7), rot=0)\n",
        "\n",
        "plt.title('Composição do Público por Sexo Biológico em São Paulo e Rio de Janeiro')\n",
        "plt.xlabel('Estado')\n",
        "plt.ylabel('Número de Clientes Únicos')\n",
        "plt.xticks(ticks=range(len(contagem_por_sexo_uf.index)), labels=contagem_por_sexo_uf.index)\n",
        "plt.legend(title='Sexo Biológico')\n",
        "plt.grid(axis='y', linestyle='--', alpha=0.7)\n",
        "plt.tight_layout() # Ajusta automaticamente os parâmetros do subplot para que caibam na figura."
      ]
    },
    {
      "cell_type": "markdown",
      "metadata": {
        "id": "1uTAdILB_T6m"
      },
      "source": [
        "## Aula 03 - Gerando mais visuais"
      ]
    },
    {
      "cell_type": "markdown",
      "metadata": {
        "id": "SsQ3DvzR_t-L"
      },
      "source": [
        "### Mão na Massa - Perfil dos clientes"
      ]
    },
    {
      "cell_type": "markdown",
      "metadata": {},
      "source": [
        "#### Desafio 1:"
      ]
    },
    {
      "cell_type": "markdown",
      "metadata": {},
      "source": [
        "> #### <strong><font color=\"#203f75\" size= 6>Prompt:</font></strong>\n",
        "\n",
        "Escreva aqui o prompt que você utilizou para gerar o código do desafio!"
      ]
    },
    {
      "cell_type": "code",
      "execution_count": null,
      "metadata": {
        "id": "bIoMVk5r_t-Q"
      },
      "outputs": [],
      "source": []
    },
    {
      "cell_type": "markdown",
      "metadata": {},
      "source": [
        "#### Desafio 2:"
      ]
    },
    {
      "cell_type": "markdown",
      "metadata": {},
      "source": [
        "> #### <strong><font color=\"#203f75\" size= 6>Prompt:</font></strong>\n",
        "\n",
        "Escreva aqui o prompt que você utilizou para gerar o código do desafio!"
      ]
    },
    {
      "cell_type": "code",
      "execution_count": null,
      "metadata": {
        "id": "0lEwT00p_t-Q"
      },
      "outputs": [],
      "source": []
    },
    {
      "cell_type": "markdown",
      "metadata": {
        "id": "i_X1NcH9_T-u"
      },
      "source": [
        "## Aula 04 - Técnicas de storytelling"
      ]
    },
    {
      "cell_type": "markdown",
      "metadata": {},
      "source": [
        "### Paleta de Cores"
      ]
    },
    {
      "cell_type": "markdown",
      "metadata": {},
      "source": [
        "Vamos compartilhar aqui a paleta de cores que usamos durante o curso pra você executar e usar em seu projeto, mas sinta-se livre para construir a sua própria."
      ]
    },
    {
      "cell_type": "code",
      "execution_count": null,
      "metadata": {},
      "outputs": [],
      "source": [
        "# Adicionando as cores como variáveis do projeto\n",
        "VERMELHO_1,\tVERMELHO_2,\tVERMELHO_3 = \"#e23155\",\t\"#cc2c4e\", \"#b32742\"\n",
        "AZUL_1,\tAZUL_2,\tAZUL_3 = \"#203f75\",\t\"#1c3867\", \"#19325b\"\n",
        "BRANCO,\tCINZA_1, CINZA_2, CINZA_3, CINZA_4,\tCINZA_5 = \"#ffffff\", \"#ebebeb\",\t\"#d9d9d9\", \"#cccccc\", \"#555655\", \"#231f20\"\n",
        "AQUA_1,\tAQUA_2,\tAQUA_3 = \"#addcd4\",\t\"#9fccc5\", \"#96bfb9\""
      ]
    },
    {
      "cell_type": "markdown",
      "metadata": {
        "id": "jQGogqg0_uiR"
      },
      "source": [
        "### Mão na Massa - Refinando os visuais escolhidos"
      ]
    },
    {
      "cell_type": "markdown",
      "metadata": {},
      "source": [
        "#### Desafio 1:"
      ]
    },
    {
      "cell_type": "markdown",
      "metadata": {},
      "source": [
        "##### Gráfico sem refinamento"
      ]
    },
    {
      "cell_type": "code",
      "execution_count": null,
      "metadata": {
        "id": "kHsVLA2b_uiS"
      },
      "outputs": [],
      "source": []
    },
    {
      "cell_type": "markdown",
      "metadata": {},
      "source": [
        "> #### <strong><font color=\"#203f75\" size= 6>Prompt:</font></strong>\n",
        "\n",
        "Escreva aqui o prompt que você utilizou para gerar o código do desafio!\n"
      ]
    },
    {
      "cell_type": "code",
      "execution_count": null,
      "metadata": {
        "id": "T1dqk3Al_uiS"
      },
      "outputs": [],
      "source": []
    },
    {
      "cell_type": "markdown",
      "metadata": {},
      "source": [
        "#### Desafio 2:"
      ]
    },
    {
      "cell_type": "markdown",
      "metadata": {},
      "source": [
        "##### Gráfico sem refinamento"
      ]
    },
    {
      "cell_type": "code",
      "execution_count": null,
      "metadata": {
        "id": "uaVxWWPC_uiS"
      },
      "outputs": [],
      "source": []
    },
    {
      "cell_type": "markdown",
      "metadata": {},
      "source": [
        "> #### <strong><font color=\"#203f75\" size= 6>Prompt:</font></strong>\n",
        "\n",
        "Escreva aqui o prompt que você utilizou para gerar o código do desafio!"
      ]
    },
    {
      "cell_type": "code",
      "execution_count": null,
      "metadata": {},
      "outputs": [],
      "source": []
    }
  ],
  "metadata": {
    "colab": {
      "provenance": []
    },
    "kernelspec": {
      "display_name": "Python 3",
      "language": "python",
      "name": "python3"
    },
    "language_info": {
      "codemirror_mode": {
        "name": "ipython",
        "version": 3
      },
      "file_extension": ".py",
      "mimetype": "text/x-python",
      "name": "python",
      "nbconvert_exporter": "python",
      "pygments_lexer": "ipython3",
      "version": "3.13.3"
    },
    "orig_nbformat": 4
  },
  "nbformat": 4,
  "nbformat_minor": 0
}
